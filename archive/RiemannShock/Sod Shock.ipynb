{
 "cells": [
  {
   "cell_type": "code",
   "execution_count": 1,
   "metadata": {
    "collapsed": true
   },
   "outputs": [],
   "source": [
    "from amuse.lab import *"
   ]
  },
  {
   "cell_type": "code",
   "execution_count": 2,
   "metadata": {
    "collapsed": false
   },
   "outputs": [],
   "source": [
    "# To reflect changes in file made outside of iPython notebook\n",
    "%load_ext autoreload\n",
    "%autoreload 2"
   ]
  },
  {
   "cell_type": "code",
   "execution_count": 3,
   "metadata": {
    "collapsed": false
   },
   "outputs": [],
   "source": [
    "# Enable showing plots inside iPython notebook\n",
    "%matplotlib inline"
   ]
  },
  {
   "cell_type": "code",
   "execution_count": 4,
   "metadata": {
    "collapsed": false
   },
   "outputs": [],
   "source": [
    "try:\n",
    "    from amuse import plot\n",
    "    from matplotlib import pyplot\n",
    "    IS_PLOT_AVAILABLE = True\n",
    "except ImportError:\n",
    "    IS_PLOT_AVAILABLE = False"
   ]
  },
  {
   "cell_type": "code",
   "execution_count": 5,
   "metadata": {
    "collapsed": true
   },
   "outputs": [],
   "source": [
    "from amuse.support.core import late\n",
    "\n",
    "from amuse import io\n",
    "from amuse.io import text\n",
    "from amuse.units import constants\n",
    "from amuse.units.generic_unit_converter import ConvertBetweenGenericAndSiUnits\n",
    "from amuse.units.nbody_system import nbody_to_si\n",
    "from amuse.units.quantities import VectorQuantity\n",
    "from amuse.units.generic_unit_system import *\n",
    "\n",
    "from amuse.community.athena.interface import Athena\n",
    "from amuse.community.capreole.interface import Capreole\n",
    "from amuse.community.mpiamrvac.interface import MpiAmrVac\n",
    "\n",
    "from amuse.community.gadget2.interface import Gadget2\n",
    "from amuse.community.fi.interface import Fi\n",
    "from amuse.ext.grid_to_sph import convert_grid_to_SPH\n",
    "\n",
    "import numpy\n",
    "\n",
    "from numpy import sqrt, arange, searchsorted\n",
    "from optparse import OptionParser\n",
    "\n",
    "from amuse.datamodel import Grid\n",
    "from amuse.datamodel import Particles\n",
    "from amuse.datamodel.grids import SamplePointsOnMultipleGrids\n",
    "from amuse.datamodel.grids import SamplePointWithIntepolation\n",
    "from amuse.datamodel.grids import SamplePointOnCellCenter"
   ]
  },
  {
   "cell_type": "code",
   "execution_count": 6,
   "metadata": {
    "collapsed": false
   },
   "outputs": [],
   "source": [
    "from test_riemann_shock_tube_problem import CalculateExactSolutionIn1D\n",
    "from test_riemann_shock_tube_problem import CalculateSolutionIn3D\n",
    "from test_riemann_shock_tube_problem import store_attributes\n",
    "from test_riemann_shock_tube_problem import store_attributes_of_line"
   ]
  },
  {
   "cell_type": "code",
   "execution_count": 7,
   "metadata": {
    "collapsed": false
   },
   "outputs": [
    {
     "name": "stdout",
     "output_type": "stream",
     "text": [
      "Runtime 0.12\n",
      "calculating shock using exact solution\n",
      "saving data\n",
      "\n",
      "calculating shock using code gadget2\n",
      "/net/glados2.science.uva.nl/api/thalbes1/amuse-10.0/data/gadget2/output\n",
      "start evolve\n",
      "copying results\n",
      "terminating code\n",
      "sampling grid\n",
      "saving data\n",
      "Done...\n"
     ]
    }
   ],
   "source": [
    "def run_code(runtime, **options):\n",
    "    print \"\\ncalculating shock using code {0}\".format(options[\"name_of_the_code\"])\n",
    "    model = CalculateSolutionIn3D(**options)\n",
    "    grids = model.get_solution_at_time(runtime | time)\n",
    "\n",
    "    print \"sampling grid\"\n",
    "    if model.name_of_the_code in model.sph_hydro_codes:\n",
    "        samples = grids\n",
    "    else:\n",
    "        samplepoints = [(x, 0.5, 0.5) | length for x in numpy.linspace(0.0, 1.0, 2000)]\n",
    "        # print len(grids)\n",
    "        samples = SamplePointsOnMultipleGrids(grids, samplepoints, SamplePointOnCellCenter)\n",
    "        # print len(samples)\n",
    "        samples.filterout_duplicate_indices()\n",
    "        # print len(samples)\n",
    "\n",
    "    print \"saving data\"\n",
    "    store_attributes(samples.x, samples.rho, samples.rhovx, samples.energy,\n",
    "        filename=\"riemann_shock_tube_problem_{0}_{1}.csv\".format(model.name_of_the_code, runtime))\n",
    "\n",
    "\n",
    "if __name__ == '__main__':\n",
    "    options = dict(number_of_grid_points = 10,\n",
    "                   number_of_workers = 4,\n",
    "                   name_of_the_code = \"gadget2\",\n",
    "                   number_of_particles = 10000)\n",
    "    \n",
    "    # Simulation end time\n",
    "    runtime = 0.12\n",
    "    print \"Runtime\", runtime\n",
    "    print \"calculating shock using exact solution\"\n",
    "    exact = CalculateExactSolutionIn1D()\n",
    "    xpositions, rho, p, u = exact.get_solution_at_time(runtime | time)\n",
    "    print \"saving data\"\n",
    "    store_attributes(xpositions, rho, u, p,\n",
    "        filename=\"exact_riemann_shock_tube_problem_{0}.csv\".format(runtime))\n",
    "\n",
    "    for code in [\"gadget2\"]:#, \"fi\", \"athena\", \"mpiamrvac\", \"capreole\"]:\n",
    "        options[\"name_of_the_code\"] = code\n",
    "        if code == \"fi\" or code == \"athena\":\n",
    "            options[\"number_of_workers\"] = 1 \n",
    "        run_code(runtime, **options)\n",
    "    print \"Done...\""
   ]
  },
  {
   "cell_type": "code",
   "execution_count": 8,
   "metadata": {
    "collapsed": false
   },
   "outputs": [
    {
     "data": {
      "image/png": "[encoded data removed]",
      "text/plain": [
       "<matplotlib.figure.Figure at 0x58cbd50>"
      ]
     },
     "metadata": {},
     "output_type": "display_data"
    }
   ],
   "source": [
    "from ipywidgets import interact, SelectMultiple, FloatSlider, ToggleButtons\n",
    "code_selection = SelectMultiple(options=[\"gadget2\", \"fi\", \"athena\", \"mpiamrvac\", \"capreole\"],\n",
    "                                selected_labels=[\"gadget2\", \"fi\", \"athena\", \"mpiamrvac\", \"capreole\"])\n",
    "runtime_slider = FloatSlider(min=0.0, max=0.6, step=0.06, value=0.12)\n",
    "quantity_button = ToggleButtons(options=[\"Density\", \"Pressure\", \"Internal Energy\", \"Velocity\", \"Entropy\"])\n",
    "\n",
    "@interact(codes=code_selection, runtime=runtime_slider, quantity=quantity_button)\n",
    "def plot_codes(codes, runtime, quantity):\n",
    "    instance = text.CsvFileText(\"exact_riemann_shock_tube_problem_{0}.csv\".format(runtime))\n",
    "    samples = instance.load()\n",
    "    quantities = {\"Density\": \"rho\", \"Internal Energy\": \"energy\"}\n",
    "    # samples.x, samples.rho, samples.rhovx, samples.energy\n",
    "    \n",
    "    markersetup = {\"gadget2\": (\"green\", \"green\", \"o\", 80), \n",
    "                   \"fi\": (\"none\", \"purple\", \"o\", 80),\n",
    "                   \"athena\": (\"none\", \"red\", \"s\", 80),\n",
    "                   \"mpiamrvac\": (\"blue\", \"blue\", \"s\", 80),\n",
    "                   \"capreole\": (\"none\", \"pink\", \"D\", 80)}\n",
    "\n",
    "    fig = pyplot.figure(figsize=(12, 9))\n",
    "    plot.plot(samples.x[::-1], getattr(samples, quantities[quantity]), c=\"black\")\n",
    "    for code in codes:\n",
    "        filename=\"riemann_shock_tube_problem_{0}_{1}.csv\".format(code, runtime)\n",
    "        instance = text.CsvFileText(filename)\n",
    "        samples = instance.load()\n",
    "        # xpositions, rho, u, p\n",
    "        face, edge, marker, size = markersetup.get(code)\n",
    "        plot.scatter(samples.x[::-1], getattr(samples, quantities[quantity]), marker=marker, s=size,\n",
    "                     facecolors=face, edgecolors=edge,\n",
    "                     label=\"{0}\".format(code))\n",
    "    pyplot.xlim(0.3, 0.7)\n",
    "    pyplot.ylim(0.5, 4.5)\n",
    "\n",
    "    plot.xlabel(r'$x$', fontsize=22)\n",
    "    plot.ylabel(r'$\\rho$', fontsize=22)\n",
    "    pyplot.legend()"
   ]
  },
  {
   "cell_type": "code",
   "execution_count": null,
   "metadata": {
    "collapsed": false
   },
   "outputs": [],
   "source": []
  },
  {
   "cell_type": "code",
   "execution_count": null,
   "metadata": {
    "collapsed": false
   },
   "outputs": [],
   "source": []
  },
  {
   "cell_type": "code",
   "execution_count": null,
   "metadata": {
    "collapsed": true
   },
   "outputs": [],
   "source": []
  }
 ],
 "metadata": {
  "kernelspec": {
   "display_name": "Python 2",
   "language": "python",
   "name": "python2"
  },
  "language_info": {
   "codemirror_mode": {
    "name": "ipython",
    "version": 2
   },
   "file_extension": ".py",
   "mimetype": "text/x-python",
   "name": "python",
   "nbconvert_exporter": "python",
   "pygments_lexer": "ipython2",
   "version": "2.7.5"
  }
 },
 "nbformat": 4,
 "nbformat_minor": 0
}
