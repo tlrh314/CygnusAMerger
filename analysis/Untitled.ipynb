{
 "cells": [
  {
   "cell_type": "code",
   "execution_count": 7,
   "metadata": {
    "collapsed": false
   },
   "outputs": [
    {
     "name": "stdout",
     "output_type": "stream",
     "text": [
      "/scratch/timo/Code/CygnusAMerger/analysis\n"
     ]
    }
   ],
   "source": [
    "import os\n",
    "print os.getcwd()"
   ]
  },
  {
   "cell_type": "code",
   "execution_count": null,
   "metadata": {
    "collapsed": false
   },
   "outputs": [],
   "source": [
    "from parser import Gadget2BinaryF77UnformattedType2Parser\n",
    "from parser import Toycluster2RuntimeOutputParser\n",
    "\n",
    "datadir=\"../../workdir/ToyclusterICs/20160420T1852/\"\n",
    "logfile=\"runToycluster.log\"\n",
    "icfile=\"IC_single_0\"\n",
    "\n",
    "log = Toycluster2RuntimeOutputParser(filename=datadir+logfile)\n",
    "data = Gadget2BinaryF77UnformattedType2Parser(filename=datadir+icfile)\n",
    "print \"Toycluster 2.0 runtime output\\n\", log\n",
    "print \"Toycluster 2.0 data output\\n\", data"
   ]
  },
  {
   "cell_type": "code",
   "execution_count": null,
   "metadata": {
    "collapsed": false
   },
   "outputs": [],
   "source": []
  },
  {
   "cell_type": "code",
   "execution_count": null,
   "metadata": {
    "collapsed": true
   },
   "outputs": [],
   "source": [
    "# %load simulation.py\n",
    "\"\"\"\n",
    "File: simulation.py\n",
    "Author: Timo L. R. Halbesma <timohalbesma@gmail.com>\n",
    "Date created: Tue Apr 19, 2016 04:22 pm\n",
    "Last modified: Tue Apr 19, 2016 04:59 pm\n",
    "\n",
    "\n",
    "\"\"\"\n",
    "\n",
    "import numpy\n",
    "# Bigger fontsize is better *_*\n",
    "from matplotlib import pyplot\n",
    "pyplot.rcParams.update({\"font.size\": 18})\n",
    "# pyplot.rcParams.update({\"text.usetex\": True})\n",
    "\n",
    "from amuse.units import units\n",
    "from amuse.units import nbody_system\n",
    "from amuse.units.quantities import VectorQuantity\n",
    "import amuse.plot as amuse_plot\n",
    "from amuse.community.gadget2.interface import Gadget2\n",
    "\n",
    "from initial import Cluster\n",
    "\n",
    "\n",
    "def make_plot(particles):\n",
    "    pyplot.gca().set_aspect(\"equal\")\n",
    "    # pyplot.xlim(-150, 150)\n",
    "    # pyplot.ylim(-150, 150)\n",
    "    amuse_plot.plot(particles.x.as_quantity_in(units.kpc), particles.y.as_quantity_in(units.kpc), 'r.')\n",
    "\n",
    "    #pyplot.savefig(os.path.join(\"plots\", \"plot_galaxy_merger_{0}_{1:=04}.png\".format(\"disk\" if j else \"total\", i)))\n",
    "    #pyplot.close()\n",
    "    pyplot.show()\n",
    "\n",
    "\n",
    "def integrate(cluster):\n",
    "    converter = nbody_system.nbody_to_si(1.0e10 | units.MSun, 1 | units.kpc)\n",
    "    print converter\n",
    "    dynamics = Gadget2(converter, number_of_workers=4, redirection='none')\n",
    "    dynamics.parameters.epsilon_squared = 0.0000001 | nbody_system.length**2\n",
    "    print dynamics.parameters\n",
    "    dm = dynamics.dm_particles.add_particles(cluster.dm)\n",
    "\n",
    "    make_plot(dynamics.particles)\n",
    "\n",
    "    for i in range(1, 101):\n",
    "        break\n",
    "        dynamics.evolve_model(i * (1 | units.yr))\n",
    "        print dynamics.model_time.as_quantity_in(units.Myr)\n",
    "        make_plots(dynamics.particles)\n",
    "\n",
    "    dynamics.stop()\n",
    "\n",
    "\n",
    "if __name__ == \"__main__\":\n",
    "    cluster = Cluster(\"../input/IC_single_0_2e5\")\n",
    "    print \"Parsed Cluster IC\"\n",
    "    integrate(cluster)\n"
   ]
  },
  {
   "cell_type": "code",
   "execution_count": null,
   "metadata": {
    "collapsed": true
   },
   "outputs": [],
   "source": []
  }
 ],
 "metadata": {
  "kernelspec": {
   "display_name": "Python 2",
   "language": "python",
   "name": "python2"
  },
  "language_info": {
   "codemirror_mode": {
    "name": "ipython",
    "version": 2
   },
   "file_extension": ".py",
   "mimetype": "text/x-python",
   "name": "python",
   "nbconvert_exporter": "python",
   "pygments_lexer": "ipython2",
   "version": "2.7.11"
  }
 },
 "nbformat": 4,
 "nbformat_minor": 0
}
